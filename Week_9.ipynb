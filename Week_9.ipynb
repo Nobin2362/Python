{
  "nbformat": 4,
  "nbformat_minor": 0,
  "metadata": {
    "colab": {
      "name": "Week-9.ipynb",
      "provenance": [],
      "collapsed_sections": [],
      "authorship_tag": "ABX9TyOK8sx7BqhoO/VgwR/gJgpC",
      "include_colab_link": true
    },
    "kernelspec": {
      "name": "python3",
      "display_name": "Python 3"
    }
  },
  "cells": [
    {
      "cell_type": "markdown",
      "metadata": {
        "id": "view-in-github",
        "colab_type": "text"
      },
      "source": [
        "<a href=\"https://colab.research.google.com/github/Nobin2362/Python_Id-No-191-15-2362/blob/master/Week_9.ipynb\" target=\"_parent\"><img src=\"https://colab.research.google.com/assets/colab-badge.svg\" alt=\"Open In Colab\"/></a>"
      ]
    },
    {
      "cell_type": "markdown",
      "metadata": {
        "id": "HvSWBnTrdP8H"
      },
      "source": [
        "\n",
        "**Polymorphism in Class Methods**"
      ]
    },
    {
      "cell_type": "code",
      "metadata": {
        "id": "Y9KleMJ5c4m_"
      },
      "source": [
        "class Cat:\n",
        "    def __init__(self, name, age):\n",
        "        self.name = name\n",
        "        self.age = age\n",
        "\n",
        "    def info(self):\n",
        "        print(f\"I am a cat. My name is {self.name}. I am {self.age} years old.\")\n",
        "\n",
        "    def make_sound(self):\n",
        "        print(\"Nobin\")"
      ],
      "execution_count": 17,
      "outputs": []
    },
    {
      "cell_type": "code",
      "metadata": {
        "id": "UCjsLul9dEK3"
      },
      "source": [
        "class Mouse:\n",
        "    def __init__(self, name, age):\n",
        "        self.name = name\n",
        "        self.age = age\n",
        "\n",
        "    def info(self):\n",
        "        print(f\"I am a Mouse. My name is {self.name}. I am {self.age} years old.\")\n",
        "\n",
        "    def make_sound(self):\n",
        "        print(\"Rasel\")"
      ],
      "execution_count": 16,
      "outputs": []
    },
    {
      "cell_type": "markdown",
      "metadata": {
        "id": "bYU6RDmDdJEP"
      },
      "source": [
        "**Create object**"
      ]
    },
    {
      "cell_type": "code",
      "metadata": {
        "id": "VdAVs3wNdGmn"
      },
      "source": [
        "\n",
        "cat1 = Cat(\"tom\", 2.5)\n",
        "mouse1 = Mouse(\"jerry\", 4)"
      ],
      "execution_count": 15,
      "outputs": []
    },
    {
      "cell_type": "code",
      "metadata": {
        "id": "q6FaXDr0dSNW"
      },
      "source": [
        "\n",
        "for animal in (cat1, mouse1):\n",
        "    animal.make_sound()\n",
        "    animal.info()\n",
        "    animal.make_sound()"
      ],
      "execution_count": null,
      "outputs": []
    },
    {
      "cell_type": "markdown",
      "metadata": {
        "id": "rG2Bl6ZndYge"
      },
      "source": [
        "**Error and exception handling**"
      ]
    },
    {
      "cell_type": "code",
      "metadata": {
        "id": "Cr6PhCk6dU82"
      },
      "source": [
        "def add(n1, n2):\n",
        "  print(n1+n2)"
      ],
      "execution_count": 12,
      "outputs": []
    },
    {
      "cell_type": "code",
      "metadata": {
        "colab": {
          "base_uri": "https://localhost:8080/"
        },
        "id": "-qgAc1B0dcXW",
        "outputId": "a6f34680-8512-4749-c9c0-576481d10a54"
      },
      "source": [
        "add(20,20)"
      ],
      "execution_count": 11,
      "outputs": [
        {
          "output_type": "stream",
          "text": [
            "40\n"
          ],
          "name": "stdout"
        }
      ]
    },
    {
      "cell_type": "code",
      "metadata": {
        "id": "PSCKo0IedfCW"
      },
      "source": [
        "number1=10\n",
        "\n",
        "number2=input(\"please provide a number: \")\n",
        "\n",
        "add(number1,number2)\n",
        "print(\"add done!\")"
      ],
      "execution_count": null,
      "outputs": []
    },
    {
      "cell_type": "markdown",
      "metadata": {
        "id": "unzGo5dodjF-"
      },
      "source": [
        "**Exception handling**"
      ]
    },
    {
      "cell_type": "code",
      "metadata": {
        "colab": {
          "base_uri": "https://localhost:8080/"
        },
        "id": "H34ohhoxdjV3",
        "outputId": "0431b085-d68d-4411-bdc6-f338b405f533"
      },
      "source": [
        "try:\n",
        "  result = 10+'10'\n",
        "except:\n",
        "  print(f'Hey! its looks like you are not adding correctly!')"
      ],
      "execution_count": 7,
      "outputs": [
        {
          "output_type": "stream",
          "text": [
            "Hey! its looks like you are not adding correctly!\n"
          ],
          "name": "stdout"
        }
      ]
    },
    {
      "cell_type": "markdown",
      "metadata": {
        "id": "Xu4Va9I7dxNW"
      },
      "source": [
        "**Exception handling**\n"
      ]
    },
    {
      "cell_type": "code",
      "metadata": {
        "colab": {
          "base_uri": "https://localhost:8080/"
        },
        "id": "suzbbWJadrom",
        "outputId": "b16bb9b4-8a7d-4eae-9203-695fa4fa013f"
      },
      "source": [
        "try:\n",
        "  result = 10+30\n",
        "except:\n",
        "  print(f'Hey! its looks like you are not adding correctly!')\n",
        "else:\n",
        "  print(f'add went well')\n",
        "  print(f'sum is: {result}')"
      ],
      "execution_count": 9,
      "outputs": [
        {
          "output_type": "stream",
          "text": [
            "add went well\n",
            "sum is: 40\n"
          ],
          "name": "stdout"
        }
      ]
    }
  ]
}