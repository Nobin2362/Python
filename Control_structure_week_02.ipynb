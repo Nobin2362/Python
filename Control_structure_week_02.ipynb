{
  "nbformat": 4,
  "nbformat_minor": 0,
  "metadata": {
    "colab": {
      "name": "Control_structure week-02.ipynb",
      "provenance": [],
      "collapsed_sections": [],
      "authorship_tag": "ABX9TyMF0V3tfb/fOn00wSVMErcm",
      "include_colab_link": true
    },
    "kernelspec": {
      "name": "python3",
      "display_name": "Python 3"
    }
  },
  "cells": [
    {
      "cell_type": "markdown",
      "metadata": {
        "id": "view-in-github",
        "colab_type": "text"
      },
      "source": [
        "<a href=\"https://colab.research.google.com/github/Nobin2362/Python_Id-No-191-15-2362/blob/master/Control_structure_week_02.ipynb\" target=\"_parent\"><img src=\"https://colab.research.google.com/assets/colab-badge.svg\" alt=\"Open In Colab\"/></a>"
      ]
    },
    {
      "cell_type": "markdown",
      "metadata": {
        "id": "m0lpz_DGdzuM"
      },
      "source": [
        "\n",
        "\n",
        "**IF statement**\n",
        "\n"
      ]
    },
    {
      "cell_type": "code",
      "metadata": {
        "id": "vQh334f-dsXX",
        "outputId": "c37c337c-0bb6-49b1-e32a-9a8921381d6a",
        "colab": {
          "base_uri": "https://localhost:8080/",
          "height": 34
        }
      },
      "source": [
        "grade=40\n",
        "if grade>=40:\n",
        "  print(\"passed\")"
      ],
      "execution_count": null,
      "outputs": [
        {
          "output_type": "stream",
          "text": [
            "passed\n"
          ],
          "name": "stdout"
        }
      ]
    },
    {
      "cell_type": "markdown",
      "metadata": {
        "id": "E1yybNlbgBGS"
      },
      "source": [
        "**If else statement**"
      ]
    },
    {
      "cell_type": "code",
      "metadata": {
        "id": "jtHWcT96gDoZ",
        "outputId": "973ad6ac-d0d9-4641-a28a-29eb790aa740",
        "colab": {
          "base_uri": "https://localhost:8080/",
          "height": 34
        }
      },
      "source": [
        "grade=40\n",
        "if grade>=40:\n",
        "  print(\"passed\")\n",
        "else:\n",
        "  print(\"fail\")"
      ],
      "execution_count": 1,
      "outputs": [
        {
          "output_type": "stream",
          "text": [
            "fail\n"
          ],
          "name": "stdout"
        }
      ]
    },
    {
      "cell_type": "markdown",
      "metadata": {
        "id": "7GHC7-KbgctE"
      },
      "source": [
        "**Conditional expression**\n",
        "\n"
      ]
    },
    {
      "cell_type": "code",
      "metadata": {
        "id": "oEIdo0jYgiU6"
      },
      "source": [
        "\n",
        "result=('Passed' if grade >= 40 else 'Failed')"
      ],
      "execution_count": 4,
      "outputs": []
    },
    {
      "cell_type": "code",
      "metadata": {
        "id": "xzMmleuHguUJ",
        "outputId": "93a1fe9c-097b-492c-aad1-a3cdd0b2c4b5",
        "colab": {
          "base_uri": "https://localhost:8080/",
          "height": 34
        }
      },
      "source": [
        "\n",
        "print(result)"
      ],
      "execution_count": 3,
      "outputs": [
        {
          "output_type": "stream",
          "text": [
            "Passed\n"
          ],
          "name": "stdout"
        }
      ]
    },
    {
      "cell_type": "markdown",
      "metadata": {
        "id": "6GLqf2Hfg8yS"
      },
      "source": [
        "**IF...elif....else statement**"
      ]
    },
    {
      "cell_type": "code",
      "metadata": {
        "id": "y7ogPTeTg-cS",
        "outputId": "4b37c4a0-8e53-47a3-8ef8-aed79af34388",
        "colab": {
          "base_uri": "https://localhost:8080/",
          "height": 34
        }
      },
      "source": [
        "grade = 77\n",
        "\n",
        "if grade >= 80:\n",
        "    print('A')\n",
        "elif grade >= 70:\n",
        "    print('B')\n",
        "elif grade >= 60:\n",
        "    print('C')\n",
        "elif grade >= 50:\n",
        "    print('D')\n",
        "else:\n",
        "    print('F')"
      ],
      "execution_count": 5,
      "outputs": [
        {
          "output_type": "stream",
          "text": [
            "B\n"
          ],
          "name": "stdout"
        }
      ]
    },
    {
      "cell_type": "markdown",
      "metadata": {
        "id": "Qwj6D0b3hMia"
      },
      "source": [
        "**While Statement**\n"
      ]
    },
    {
      "cell_type": "code",
      "metadata": {
        "id": "NFz3ELYjhOKq",
        "outputId": "7ed8ae8e-a942-4e53-99b9-24e5414b8fd9",
        "colab": {
          "base_uri": "https://localhost:8080/",
          "height": 34
        }
      },
      "source": [
        "number=5\n",
        "\n",
        "while (number<18):\n",
        "  print(number, end=\" \")\n",
        "  number+=1"
      ],
      "execution_count": 8,
      "outputs": [
        {
          "output_type": "stream",
          "text": [
            "5 6 7 8 9 10 11 12 13 14 15 16 17 "
          ],
          "name": "stdout"
        }
      ]
    },
    {
      "cell_type": "markdown",
      "metadata": {
        "id": "v6sktdS7hecI"
      },
      "source": [
        "**while statement to find the first power of 3 larger than 50:**"
      ]
    },
    {
      "cell_type": "code",
      "metadata": {
        "id": "lGKMZ7q4hfw5"
      },
      "source": [
        "product=3\n",
        "\n",
        "while product<=50:\n",
        "  product = product*3"
      ],
      "execution_count": 10,
      "outputs": []
    },
    {
      "cell_type": "code",
      "metadata": {
        "id": "dgLTs_kYhpWK",
        "outputId": "e26ae4c5-e3ea-41f9-95f1-275b8d028a4d",
        "colab": {
          "base_uri": "https://localhost:8080/",
          "height": 34
        }
      },
      "source": [
        "print(product)"
      ],
      "execution_count": 11,
      "outputs": [
        {
          "output_type": "stream",
          "text": [
            "81\n"
          ],
          "name": "stdout"
        }
      ]
    },
    {
      "cell_type": "markdown",
      "metadata": {
        "id": "aRo9rtE7h340"
      },
      "source": [
        "**For statement**"
      ]
    },
    {
      "cell_type": "code",
      "metadata": {
        "id": "OnYuUK4Bh5Eq",
        "outputId": "80ec9484-c212-4788-84d7-df630d4ee9e9",
        "colab": {
          "base_uri": "https://localhost:8080/",
          "height": 34
        }
      },
      "source": [
        "for character in \"NOBIN\":\n",
        "  print(character, end=\" \")"
      ],
      "execution_count": 13,
      "outputs": [
        {
          "output_type": "stream",
          "text": [
            "N O B I N "
          ],
          "name": "stdout"
        }
      ]
    },
    {
      "cell_type": "markdown",
      "metadata": {
        "id": "oeNAxD19iEgx"
      },
      "source": [
        "Built in Range Function"
      ]
    },
    {
      "cell_type": "markdown",
      "metadata": {
        "id": "oNaZiN81iHWa"
      },
      "source": [
        "Let’s use a for statement and the built-in range function to iterate precisely 10 times, displaying the values from 0 through 13"
      ]
    },
    {
      "cell_type": "code",
      "metadata": {
        "id": "WPwdM-x7iPaC",
        "outputId": "52504bb3-64eb-4293-8d71-38bc65d3fc92",
        "colab": {
          "base_uri": "https://localhost:8080/",
          "height": 34
        }
      },
      "source": [
        "for counter in range(13):\n",
        "  print(counter, end=\" \")"
      ],
      "execution_count": 14,
      "outputs": [
        {
          "output_type": "stream",
          "text": [
            "0 1 2 3 4 5 6 7 8 9 10 11 12 "
          ],
          "name": "stdout"
        }
      ]
    },
    {
      "cell_type": "markdown",
      "metadata": {
        "id": "1ft3Bqt4iX6i"
      },
      "source": [
        "Use the range function and a for statement to calculate the total of the integers from 0 through 1,000,000."
      ]
    },
    {
      "cell_type": "code",
      "metadata": {
        "id": "IOqhykQxiZDj",
        "outputId": "7f52586c-ce43-4a34-d7a2-90142d9b91ee",
        "colab": {
          "base_uri": "https://localhost:8080/",
          "height": 34
        }
      },
      "source": [
        "total = 0\n",
        "for number in range(1000001):\n",
        "  total = total+number\n",
        "\n",
        "print(total)\n"
      ],
      "execution_count": 15,
      "outputs": [
        {
          "output_type": "stream",
          "text": [
            "500000500000\n"
          ],
          "name": "stdout"
        }
      ]
    },
    {
      "cell_type": "markdown",
      "metadata": {
        "id": "aFs0EzfJii3M"
      },
      "source": [
        "Function range also has two- and three-argument versions. As you’ve seen, range’s one argument version produces a sequence of consecutive integers from 0 up to, but not including, the argument’s value. Function range’s two-argument version produces a sequence of consecutive integers from its first argument’s value up to, but not including, the second argument’s value, as i"
      ]
    },
    {
      "cell_type": "code",
      "metadata": {
        "id": "AMDQggGYij7L",
        "outputId": "7d04f0fd-b0cb-4e9b-eb59-df4670790674",
        "colab": {
          "base_uri": "https://localhost:8080/",
          "height": 34
        }
      },
      "source": [
        "\n",
        "for number in range(598,610):\n",
        "  print(number, end=\" \")"
      ],
      "execution_count": 18,
      "outputs": [
        {
          "output_type": "stream",
          "text": [
            "598 599 600 601 602 603 604 605 606 607 608 609 "
          ],
          "name": "stdout"
        }
      ]
    },
    {
      "cell_type": "markdown",
      "metadata": {
        "id": "_4Aa6NuJi3zC"
      },
      "source": [
        "Function range’s three-argument version produces a sequence of integers from its first argument’s value up to, but not including, the second argument’s value, incrementing by the third argument’s value, which is known as the step:"
      ]
    },
    {
      "cell_type": "code",
      "metadata": {
        "id": "CAD0AsbJi637",
        "outputId": "e9568010-f2e8-4b91-ccb1-d37091e702f8",
        "colab": {
          "base_uri": "https://localhost:8080/",
          "height": 34
        }
      },
      "source": [
        "for number in range(0,15,3):\n",
        "  print(number, end=\" \")"
      ],
      "execution_count": 20,
      "outputs": [
        {
          "output_type": "stream",
          "text": [
            "0 3 6 9 12 "
          ],
          "name": "stdout"
        }
      ]
    },
    {
      "cell_type": "markdown",
      "metadata": {
        "id": "Ih1MU-yPjJrB"
      },
      "source": [
        "If the third argument is negative, the sequence progresses from the first argument’s value down to, but not including the second argument’s value, decrementing by the third argument’s value, as in:"
      ]
    },
    {
      "cell_type": "code",
      "metadata": {
        "id": "z2V0EvJBjKs5",
        "outputId": "cb998e1e-e475-4358-b719-ccd9189e201d",
        "colab": {
          "base_uri": "https://localhost:8080/",
          "height": 34
        }
      },
      "source": [
        "for number in range(18,0,-3):\n",
        "  print(number, end=\" \")"
      ],
      "execution_count": 22,
      "outputs": [
        {
          "output_type": "stream",
          "text": [
            "18 15 12 9 6 3 "
          ],
          "name": "stdout"
        }
      ]
    },
    {
      "cell_type": "markdown",
      "metadata": {
        "id": "aXbPEgNTjSQz"
      },
      "source": [
        "Number table print using range function"
      ]
    },
    {
      "cell_type": "markdown",
      "metadata": {
        "id": "3HSLSTMgjW9j"
      },
      "source": [
        "Take an input from user and print the number table"
      ]
    },
    {
      "cell_type": "code",
      "metadata": {
        "id": "5978n7VvjTSj",
        "outputId": "01db9227-0d92-453a-f067-59c3b155f222",
        "colab": {
          "base_uri": "https://localhost:8080/",
          "height": 34
        }
      },
      "source": [
        "number =  int(input())"
      ],
      "execution_count": 30,
      "outputs": [
        {
          "output_type": "stream",
          "text": [
            "12\n"
          ],
          "name": "stdout"
        }
      ]
    },
    {
      "cell_type": "code",
      "metadata": {
        "id": "BPcTwR2wjhX7",
        "outputId": "8b9c843a-961c-4c28-9780-3ea967df69e7",
        "colab": {
          "base_uri": "https://localhost:8080/",
          "height": 134
        }
      },
      "source": [
        "for i in range(1,8):\n",
        "  print(number,\"X\",i,\"=\",number*i)"
      ],
      "execution_count": 31,
      "outputs": [
        {
          "output_type": "stream",
          "text": [
            "12 X 1 = 12\n",
            "12 X 2 = 24\n",
            "12 X 3 = 36\n",
            "12 X 4 = 48\n",
            "12 X 5 = 60\n",
            "12 X 6 = 72\n",
            "12 X 7 = 84\n"
          ],
          "name": "stdout"
        }
      ]
    },
    {
      "cell_type": "markdown",
      "metadata": {
        "id": "4eMMpnz7ju5y"
      },
      "source": [
        "Nested For Loop"
      ]
    },
    {
      "cell_type": "code",
      "metadata": {
        "id": "p7ErKUQtjype",
        "outputId": "261d6e04-08ac-409e-d3b8-df25aafdf226",
        "colab": {
          "base_uri": "https://localhost:8080/",
          "height": 218
        }
      },
      "source": [
        "for left in range(12):\n",
        "    for right in range(left,12):\n",
        "        print(\"[\"+str(left)+\"|\"+str(right)+\"]\", end =\" \")\n",
        "    print()"
      ],
      "execution_count": 32,
      "outputs": [
        {
          "output_type": "stream",
          "text": [
            "[0|0] [0|1] [0|2] [0|3] [0|4] [0|5] [0|6] [0|7] [0|8] [0|9] [0|10] [0|11] \n",
            "[1|1] [1|2] [1|3] [1|4] [1|5] [1|6] [1|7] [1|8] [1|9] [1|10] [1|11] \n",
            "[2|2] [2|3] [2|4] [2|5] [2|6] [2|7] [2|8] [2|9] [2|10] [2|11] \n",
            "[3|3] [3|4] [3|5] [3|6] [3|7] [3|8] [3|9] [3|10] [3|11] \n",
            "[4|4] [4|5] [4|6] [4|7] [4|8] [4|9] [4|10] [4|11] \n",
            "[5|5] [5|6] [5|7] [5|8] [5|9] [5|10] [5|11] \n",
            "[6|6] [6|7] [6|8] [6|9] [6|10] [6|11] \n",
            "[7|7] [7|8] [7|9] [7|10] [7|11] \n",
            "[8|8] [8|9] [8|10] [8|11] \n",
            "[9|9] [9|10] [9|11] \n",
            "[10|10] [10|11] \n",
            "[11|11] \n"
          ],
          "name": "stdout"
        }
      ]
    },
    {
      "cell_type": "markdown",
      "metadata": {
        "id": "3tywR2fEkZy5"
      },
      "source": [
        "Break statement"
      ]
    },
    {
      "cell_type": "code",
      "metadata": {
        "id": "-0nPd-zOkdWK",
        "outputId": "dbef833f-96ec-4c84-b575-517682321d37",
        "colab": {
          "base_uri": "https://localhost:8080/",
          "height": 34
        }
      },
      "source": [
        "for number in range(100):\n",
        "  if  number==29:\n",
        "    break\n",
        "  print(number, end=\" \")"
      ],
      "execution_count": 34,
      "outputs": [
        {
          "output_type": "stream",
          "text": [
            "0 1 2 3 4 5 6 7 8 9 10 11 12 13 14 15 16 17 18 19 20 21 22 23 24 25 26 27 28 "
          ],
          "name": "stdout"
        }
      ]
    },
    {
      "cell_type": "markdown",
      "metadata": {
        "id": "cxhv_EHVkkNG"
      },
      "source": [
        "Continue statement"
      ]
    },
    {
      "cell_type": "code",
      "metadata": {
        "id": "rfLlQ-dRklO2",
        "outputId": "6f45d966-4a14-4fe1-a8cc-89ad2787ecdb",
        "colab": {
          "base_uri": "https://localhost:8080/",
          "height": 34
        }
      },
      "source": [
        "fnumber==5:\n",
        "    contor number in range(10):\n",
        "  if  inue\n",
        "  print(number, end=\" \")"
      ],
      "execution_count": 35,
      "outputs": [
        {
          "output_type": "stream",
          "text": [
            "0 1 2 3 4 6 7 8 9 "
          ],
          "name": "stdout"
        }
      ]
    },
    {
      "cell_type": "markdown",
      "metadata": {
        "id": "4jjV-NfC2qXq"
      },
      "source": [
        "**Extremely Basic URI**"
      ]
    },
    {
      "cell_type": "code",
      "metadata": {
        "id": "527opUZ52rIs",
        "outputId": "36a978ae-a0d6-4c11-d8e2-eb32507bda51",
        "colab": {
          "base_uri": "https://localhost:8080/",
          "height": 67
        }
      },
      "source": [
        "A = int(input())\n",
        "B = int(input())\n",
        "x = A + B\n",
        "print(\"X = %i\"% x)"
      ],
      "execution_count": 36,
      "outputs": [
        {
          "output_type": "stream",
          "text": [
            "1\n",
            "3\n",
            "X = 4\n"
          ],
          "name": "stdout"
        }
      ]
    },
    {
      "cell_type": "markdown",
      "metadata": {
        "id": "aazx2B9d3AEN"
      },
      "source": [
        "**Area of a Circle URI**"
      ]
    },
    {
      "cell_type": "code",
      "metadata": {
        "id": "qNBhk66z3A4E",
        "outputId": "c4586c9d-fcd0-4ca9-e8f4-6a76ce83e634",
        "colab": {
          "base_uri": "https://localhost:8080/",
          "height": 50
        }
      },
      "source": [
        "r = float(input())\n",
        "pi = 3.14159\n",
        "a = pi * (pow(r,2))\n",
        "print(\"A=%.4f\"% a)"
      ],
      "execution_count": 37,
      "outputs": [
        {
          "output_type": "stream",
          "text": [
            "34\n",
            "A=3631.6780\n"
          ],
          "name": "stdout"
        }
      ]
    },
    {
      "cell_type": "markdown",
      "metadata": {
        "id": "sHAbPqIp6Xg8"
      },
      "source": [
        "**Difference URI**\n",
        "\n"
      ]
    },
    {
      "cell_type": "code",
      "metadata": {
        "id": "Bm5zOkfP6YFC",
        "outputId": "a097c1ca-7ad3-43e4-c513-36b8ee19fb21",
        "colab": {
          "base_uri": "https://localhost:8080/",
          "height": 101
        }
      },
      "source": [
        "A = int(input());\n",
        "B = int(input());\n",
        "C = int(input());\n",
        "D = int(input());\n",
        "DIFERENCA = (A*B - C*D);\n",
        "print(\"DIFERENCA = %d\"%DIFERENCA);"
      ],
      "execution_count": 39,
      "outputs": [
        {
          "output_type": "stream",
          "text": [
            "33\n",
            "22\n",
            "21\n",
            "3\n",
            "DIFERENCA = 663\n"
          ],
          "name": "stdout"
        }
      ]
    },
    {
      "cell_type": "markdown",
      "metadata": {
        "id": "peALqopf6cj9"
      },
      "source": [
        "**Age in Days**"
      ]
    },
    {
      "cell_type": "code",
      "metadata": {
        "id": "HMNEZTBf7ewl",
        "outputId": "d3897382-ebde-47b8-d0b9-d338eed8abee",
        "colab": {
          "base_uri": "https://localhost:8080/",
          "height": 84
        }
      },
      "source": [
        "A = int(input())\n",
        "B = int(A/365)\n",
        "C = int(A%365)\n",
        "D = int(A/30)\n",
        "E = A%30\n",
        "print(\"%d ano(s)\"%B)\n",
        "print(\"%d mes(es)\"%D)\n",
        "print(\"%d dia(s)\"%E)"
      ],
      "execution_count": 42,
      "outputs": [
        {
          "output_type": "stream",
          "text": [
            "12\n",
            "0 ano(s)\n",
            "0 mes(es)\n",
            "12 dia(s)\n"
          ],
          "name": "stdout"
        }
      ]
    }
  ]
}